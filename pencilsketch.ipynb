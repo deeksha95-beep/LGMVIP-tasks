{
 "cells": [
  {
   "cell_type": "code",
   "execution_count": 4,
   "id": "fe2bc8ff",
   "metadata": {},
   "outputs": [
    {
     "name": "stdout",
     "output_type": "stream",
     "text": [
      "Requirement already satisfied: opencv-python in c:\\users\\deeksha ts\\downloads\\anaconda\\lib\\site-packages (4.5.4.60)\n",
      "Requirement already satisfied: numpy>=1.17.3 in c:\\users\\deeksha ts\\downloads\\anaconda\\lib\\site-packages (from opencv-python) (1.19.5)\n"
     ]
    },
    {
     "data": {
      "text/plain": [
       "True"
      ]
     },
     "execution_count": 4,
     "metadata": {},
     "output_type": "execute_result"
    }
   ],
   "source": [
    "!pip install opencv-python\n",
    "import numpy as np\n",
    "import imageio\n",
    "import scipy.ndimage\n",
    "import cv2\n",
    " \n",
    " # take image input and assign variable to it\n",
    "img = \"hands_img.png\"\n",
    " \n",
    " # function to convert image into sketch\n",
    "def rgb2gray(rgb):\n",
    "    # 2 dimensional array to convert image to sketch\n",
    "    return np.dot(rgb[..., :3], [0.2989, 0.5870, .1140])\n",
    " \n",
    "def dodge(front, back):\n",
    " \n",
    "    # if image is greater than 255 (which is not possible) it will convert it to 255\n",
    "    final_sketch = front*255/(255-back)\n",
    "    final_sketch[final_sketch > 255] = 255\n",
    "    final_sketch[back == 255] = 255\n",
    " \n",
    "    # to convert any suitable existing column to categorical type we will use aspect function\n",
    "    # and uint8 is for 8-bit signed integer\n",
    "    return final_sketch.astype('uint8')\n",
    " \n",
    "ss = imageio.imread(img)\n",
    "gray = rgb2gray(ss)\n",
    " \n",
    "i = 255-gray\n",
    " \n",
    "# to convert into a blur image\n",
    "blur = scipy.ndimage.filters.gaussian_filter(i, sigma=13)\n",
    " \n",
    " # calling the fuction\n",
    "r = dodge(blur, gray)\n",
    " \n",
    "cv2.imwrite('output_hands.png', r)"
   ]
  }
 ],
 "metadata": {
  "kernelspec": {
   "display_name": "Python 3",
   "language": "python",
   "name": "python3"
  },
  "language_info": {
   "codemirror_mode": {
    "name": "ipython",
    "version": 3
   },
   "file_extension": ".py",
   "mimetype": "text/x-python",
   "name": "python",
   "nbconvert_exporter": "python",
   "pygments_lexer": "ipython3",
   "version": "3.8.8"
  }
 },
 "nbformat": 4,
 "nbformat_minor": 5
}
